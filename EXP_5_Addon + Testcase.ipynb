{
  "nbformat": 4,
  "nbformat_minor": 0,
  "metadata": {
    "colab": {
      "provenance": [],
      "authorship_tag": "ABX9TyMiLLWbqSRTELCBWfYdAEGh",
      "include_colab_link": true
    },
    "kernelspec": {
      "name": "python3",
      "display_name": "Python 3"
    },
    "language_info": {
      "name": "python"
    }
  },
  "cells": [
    {
      "cell_type": "markdown",
      "metadata": {
        "id": "view-in-github",
        "colab_type": "text"
      },
      "source": [
        "<a href=\"https://colab.research.google.com/github/Aathi005/Deep-Learning/blob/main/EXP_5_Addon%20%2B%20Testcase.ipynb\" target=\"_parent\"><img src=\"https://colab.research.google.com/assets/colab-badge.svg\" alt=\"Open In Colab\"/></a>"
      ]
    },
    {
      "cell_type": "code",
      "execution_count": 2,
      "metadata": {
        "id": "x5UlibbvTytJ"
      },
      "outputs": [],
      "source": [
        "from tensorflow.keras.preprocessing.text import Tokenizer\n",
        "from tensorflow.keras.preprocessing.sequence import pad_sequences\n",
        "from sklearn.model_selection import train_test_split\n",
        "import numpy as np\n",
        "\n",
        "# Example data (replace with your own dataset)\n",
        "texts = [\"I love this movie\", \"This movie was terrible\", \"Amazing film!\", \"I hated this movie\"]\n",
        "labels = [1, 0, 1, 0]  # 1 = positive, 0 = negative\n",
        "\n",
        "# Tokenize the text\n",
        "tokenizer = Tokenizer(num_words=10000)\n",
        "tokenizer.fit_on_texts(texts)\n",
        "sequences = tokenizer.texts_to_sequences(texts)\n",
        "\n",
        "# Pad sequences so they are all length 100\n",
        "X = pad_sequences(sequences, maxlen=100)\n",
        "\n",
        "# Convert labels to numpy array\n",
        "y = np.array(labels)\n",
        "\n",
        "# Split into train and test sets\n",
        "X_train, X_test, y_train, y_test = train_test_split(X, y, test_size=0.2)"
      ]
    },
    {
      "cell_type": "code",
      "source": [
        "from keras.models import Sequential\n",
        "from keras.layers import Embedding, GRU, Dense\n",
        "\n",
        "model = Sequential([\n",
        "    Embedding(10000, 32, input_length=100),\n",
        "    GRU(100),\n",
        "    Dense(1, activation='sigmoid')\n",
        "])\n",
        "\n",
        "model.compile(loss='binary_crossentropy',\n",
        "              optimizer='adam',\n",
        "              metrics=['accuracy'])\n",
        "\n",
        "model.fit(X_train, y_train,\n",
        "          epochs=5,\n",
        "          batch_size=64,\n",
        "          validation_split=0.2)"
      ],
      "metadata": {
        "id": "gEhcH2vxX3YJ",
        "outputId": "d507aa3b-77f1-4c1b-fc66-3cc0563cf665",
        "colab": {
          "base_uri": "https://localhost:8080/"
        }
      },
      "execution_count": 3,
      "outputs": [
        {
          "output_type": "stream",
          "name": "stdout",
          "text": [
            "Epoch 1/5\n",
            "\u001b[1m1/1\u001b[0m \u001b[32m━━━━━━━━━━━━━━━━━━━━\u001b[0m\u001b[37m\u001b[0m \u001b[1m7s\u001b[0m 7s/step - accuracy: 0.5000 - loss: 0.6967 - val_accuracy: 1.0000 - val_loss: 0.6899\n",
            "Epoch 2/5\n",
            "\u001b[1m1/1\u001b[0m \u001b[32m━━━━━━━━━━━━━━━━━━━━\u001b[0m\u001b[37m\u001b[0m \u001b[1m0s\u001b[0m 414ms/step - accuracy: 0.5000 - loss: 0.6923 - val_accuracy: 1.0000 - val_loss: 0.6901\n",
            "Epoch 3/5\n",
            "\u001b[1m1/1\u001b[0m \u001b[32m━━━━━━━━━━━━━━━━━━━━\u001b[0m\u001b[37m\u001b[0m \u001b[1m1s\u001b[0m 743ms/step - accuracy: 0.5000 - loss: 0.6879 - val_accuracy: 0.0000e+00 - val_loss: 0.6932\n",
            "Epoch 4/5\n",
            "\u001b[1m1/1\u001b[0m \u001b[32m━━━━━━━━━━━━━━━━━━━━\u001b[0m\u001b[37m\u001b[0m \u001b[1m0s\u001b[0m 431ms/step - accuracy: 1.0000 - loss: 0.6836 - val_accuracy: 0.0000e+00 - val_loss: 0.6972\n",
            "Epoch 5/5\n",
            "\u001b[1m1/1\u001b[0m \u001b[32m━━━━━━━━━━━━━━━━━━━━\u001b[0m\u001b[37m\u001b[0m \u001b[1m1s\u001b[0m 554ms/step - accuracy: 1.0000 - loss: 0.6791 - val_accuracy: 0.0000e+00 - val_loss: 0.7009\n"
          ]
        },
        {
          "output_type": "execute_result",
          "data": {
            "text/plain": [
              "<keras.src.callbacks.history.History at 0x79ee32024ce0>"
            ]
          },
          "metadata": {},
          "execution_count": 3
        }
      ]
    },
    {
      "cell_type": "code",
      "source": [
        "import tensorflow as tf\n",
        "from keras.models import Sequential\n",
        "from keras.layers import Embedding, GRU, LSTM, Dense, TextVectorization\n",
        "import numpy as np\n",
        "\n",
        "# -----------------------------\n",
        "# 1. Load IMDB dataset\n",
        "# -----------------------------\n",
        "max_features = 10000  # top words\n",
        "max_len = 100         # max review length\n",
        "\n",
        "(X_train, y_train), (X_test, y_test) = tf.keras.datasets.imdb.load_data(num_words=max_features)\n",
        "\n",
        "# Pad sequences so they are all the same length\n",
        "X_train = tf.keras.preprocessing.sequence.pad_sequences(X_train, maxlen=max_len)\n",
        "X_test = tf.keras.preprocessing.sequence.pad_sequences(X_test, maxlen=max_len)\n",
        "\n",
        "# -----------------------------\n",
        "# 2. Define GRU model\n",
        "# -----------------------------\n",
        "gru_model = Sequential([\n",
        "    Embedding(max_features, 32, input_length=max_len),\n",
        "    GRU(100),\n",
        "    Dense(1, activation=\"sigmoid\")\n",
        "])\n",
        "gru_model.compile(loss=\"binary_crossentropy\", optimizer=\"adam\", metrics=[\"accuracy\"])\n",
        "\n",
        "# -----------------------------\n",
        "# 3. Define LSTM model\n",
        "# -----------------------------\n",
        "lstm_model = Sequential([\n",
        "    Embedding(max_features, 32, input_length=max_len),\n",
        "    LSTM(100),\n",
        "    Dense(1, activation=\"sigmoid\")\n",
        "])\n",
        "lstm_model.compile(loss=\"binary_crossentropy\", optimizer=\"adam\", metrics=[\"accuracy\"])\n",
        "\n",
        "# -----------------------------\n",
        "# 4. Train both models (quick demo: 2 epochs each)\n",
        "# -----------------------------\n",
        "print(\"\\nTraining GRU model...\")\n",
        "gru_model.fit(X_train, y_train, epochs=5, batch_size=64, validation_split=0.2, verbose=2)\n",
        "\n",
        "print(\"\\nTraining LSTM model...\")\n",
        "lstm_model.fit(X_train, y_train, epochs=5, batch_size=64, validation_split=0.2, verbose=2)\n",
        "\n",
        "# -----------------------------\n",
        "# 5. Test custom reviews\n",
        "# -----------------------------\n",
        "# Load IMDB word index to map words -> numbers\n",
        "word_index = tf.keras.datasets.imdb.get_word_index()\n",
        "reverse_index = {v+3: k for k, v in word_index.items()}\n",
        "reverse_index[0] = \"<PAD>\"\n",
        "reverse_index[1] = \"<START>\"\n",
        "reverse_index[2] = \"<UNK>\"\n",
        "\n",
        "def encode_review(text):\n",
        "    # Simple encoding (lowercase words mapped to IMDB word index)\n",
        "    return [\n",
        "        word_index.get(word.lower(), 2)  # unknown -> 2\n",
        "        for word in text.split()\n",
        "    ]\n",
        "\n",
        "test_cases = [\n",
        "    (\"An emotional and deep plot\", \"Positive\"),\n",
        "    (\"The story was dull\", \"Negative\")\n",
        "]\n",
        "\n",
        "X_custom = []\n",
        "for review, _ in test_cases:\n",
        "    encoded = encode_review(review)\n",
        "    padded = tf.keras.preprocessing.sequence.pad_sequences([encoded], maxlen=max_len)\n",
        "    X_custom.append(padded)\n",
        "\n",
        "X_custom = np.vstack(X_custom)\n",
        "\n",
        "# Predictions\n",
        "gru_preds = (gru_model.predict(X_custom) > 0.5).astype(\"int32\").flatten()\n",
        "lstm_preds = (lstm_model.predict(X_custom) > 0.5).astype(\"int32\").flatten()\n",
        "\n",
        "def decode_label(val):\n",
        "    return \"Positive\" if val == 1 else \"Negative\"\n",
        "\n",
        "# -----------------------------\n",
        "# 6. Print results\n",
        "# -----------------------------\n",
        "print(f\"\\n{'Review Text':40} | {'Expected':8} | {'GRU':8} | {'LSTM':8} | Same?\")\n",
        "print(\"-\"*80)\n",
        "for i, (text, expected) in enumerate(test_cases):\n",
        "    gru_out = decode_label(gru_preds[i])\n",
        "    lstm_out = decode_label(lstm_preds[i])\n",
        "    same = \"Yes\" if gru_out == lstm_out else \"No\"\n",
        "    print(f\"{text:40} | {expected:8} | {gru_out:8} | {lstm_out:8} | {same}\")\n"
      ],
      "metadata": {
        "id": "s90_z1S2YC4f",
        "outputId": "6e50684c-157d-4be0-d021-198499bf5950",
        "colab": {
          "base_uri": "https://localhost:8080/"
        }
      },
      "execution_count": null,
      "outputs": [
        {
          "output_type": "stream",
          "name": "stdout",
          "text": [
            "\n",
            "Training GRU model...\n",
            "Epoch 1/5\n",
            "313/313 - 57s - 183ms/step - accuracy: 0.7220 - loss: 0.5129 - val_accuracy: 0.8428 - val_loss: 0.3721\n",
            "Epoch 2/5\n",
            "313/313 - 55s - 176ms/step - accuracy: 0.8798 - loss: 0.2933 - val_accuracy: 0.8448 - val_loss: 0.3591\n",
            "Epoch 3/5\n",
            "313/313 - 81s - 259ms/step - accuracy: 0.9143 - loss: 0.2229 - val_accuracy: 0.8400 - val_loss: 0.4176\n",
            "Epoch 4/5\n",
            "313/313 - 55s - 177ms/step - accuracy: 0.9387 - loss: 0.1654 - val_accuracy: 0.8314 - val_loss: 0.4067\n",
            "Epoch 5/5\n",
            "313/313 - 82s - 262ms/step - accuracy: 0.9575 - loss: 0.1196 - val_accuracy: 0.8368 - val_loss: 0.4858\n"
          ]
        }
      ]
    }
  ]
}